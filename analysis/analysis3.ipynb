{
 "cells": [
  {
   "cell_type": "markdown",
   "metadata": {},
   "source": [
    "# Chase Winslow"
   ]
  },
  {
   "cell_type": "markdown",
   "metadata": {},
   "source": [
    "## What amateur teams have found the most success at producing NHL skaters and which are the best at producing goalies? \n",
    "These graphs will find which amateur teams and leagues have produced the best players. It will be interesting to if there are junior teams for each or if a team dominates both categories.\n"
   ]
  },
  {
   "cell_type": "code",
   "execution_count": null,
   "metadata": {},
   "outputs": [],
   "source": [
    "import pandas as pd\n",
    "import numpy as np\n",
    "import matplotlib.pyplot as plt\n",
    "import seaborn as sns"
   ]
  },
  {
   "cell_type": "code",
   "execution_count": null,
   "metadata": {},
   "outputs": [],
   "source": [
    "#Loading and processing data into dfAma\n",
    "from typing import TYPE_CHECKING\n",
    "if TYPE_CHECKING:\n",
    "    from .code import project_functions3\n",
    "else:\n",
    "    import sys\n",
    "    sys.path.append(\"./code\")\n",
    "    import project_functions3\n",
    "\n",
    "dfAma = project_functions3.load_and_process(\"../data/raw/NHLDraft.csv\")\n",
    "dfAma"
   ]
  },
  {
   "cell_type": "code",
   "execution_count": null,
   "metadata": {},
   "outputs": [],
   "source": [
    "#SK = Slovakia, US = USA, CA = Canada, SE = Sweden, AT = Austria, RU = Russia, FI = Finland, CH = Switzerland\n",
    "#CZ = Czechia, DE = Germany, LV = Latvia, PL = Poland < 10, BY = Belarus, GB = Great Britain, KZ = Kazakhstan\n",
    "#NO = Norway, UA = Ukraine, UZ = Uzbekistan <10, DK = Denmark, AU = Australia <10, TH = Thailand <10, JM = Jamacia<10\n",
    "#FR = France <10, SI = Slovenia <10, BE = Belgium <10, NL = Netherlands <10, CN = China <10, LT = Lithuania<10, IT = Italy<10\n",
    "#NG = Nigeria<10, EE = Estonia<10, JP = Japan<10, ME = Serbia<10, HU = Hungary<10, YU = Yugoslavia<10, BS = Bahamas<10, BR = Brazil<10\n",
    "#TZ = Tanzania<10, BN = Brunei<10, KR = South Korea<10, ZA = South Africa<10, SU = Soviet Union<10, HT = Haiti<10\n",
    "#TW = Taiwan<10, PY = Paraguay<10, VE = Venezuela<10"
   ]
  },
  {
   "cell_type": "code",
   "execution_count": null,
   "metadata": {},
   "outputs": [],
   "source": [
    "sns.set_theme(style=\"ticks\",\n",
    "              font_scale=1.3, # This scales the fonts slightly higher\n",
    "             )\n",
    "plt.rc(\"axes.spines\", top=False, right=False)"
   ]
  },
  {
   "cell_type": "code",
   "execution_count": null,
   "metadata": {},
   "outputs": [],
   "source": [
    "# Filter data to include only players with an amateur team\n",
    "df_amateur = dfAma[dfAma['amateur_team'].notnull()]\n",
    "\n",
    "# Calculate total score for each team\n",
    "df_scores = df_amateur.groupby('amateur_team')[['games_played', 'points']].sum(numeric_only=False)\n",
    "df_scores['score'] = df_scores['games_played'] + df_scores['points']\n",
    "df_scores = df_scores.sort_values('score', ascending=False)[:25]\n",
    "df_scores['amateur_team'] = df_scores.index\n",
    "\n",
    "# Set color palette\n",
    "colors = sns.color_palette(\"hls\", len(df_scores))\n",
    "\n",
    "# Set figure size\n",
    "plt.figure(figsize=(10, 8))\n",
    "\n",
    "# Generate plot using seaborn\n",
    "sns.barplot(x='score', y='amateur_team', data=df_scores, order=df_scores['amateur_team'], palette=colors)\n",
    "plt.title('Most Successful Amateur Teams since 1982')\n",
    "plt.ylabel('Amateur Team')\n",
    "plt.xlabel('Points + Games Played')\n",
    "\n",
    "# Show plot\n",
    "plt.show()\n",
    "\n"
   ]
  },
  {
   "cell_type": "markdown",
   "metadata": {},
   "source": [
    "This graph shows the most susscessful junior programs since 1982. There is a clear dominance of OHL teams at the top with 7 spots in the top 10. Both London and Peterborough and big leads on the teams below them. The first European team is CSKA Moskva which shows Canada's clear production of great young prospects."
   ]
  },
  {
   "cell_type": "code",
   "execution_count": null,
   "metadata": {},
   "outputs": [],
   "source": [
    "# Filter data to include only players with an amateur team and not from WHL, OHL or QMJHL\n",
    "df_amateur = dfAma[dfAma['amateur_team'].notnull()]\n",
    "df_amateur = df_amateur[~df_amateur['amateur_team'].str.contains('WHL|OHL|QMJHL')]\n",
    "\n",
    "# Calculate total score for each team\n",
    "df_scores = df_amateur.groupby('amateur_team').sum(numeric_only=True)[['games_played', 'points']]\n",
    "df_scores['score'] = df_scores['games_played'] + df_scores['points']\n",
    "df_scores = df_scores.sort_values('score', ascending=False)[:25]\n",
    "df_scores['amateur_team'] = df_scores.index\n",
    "\n",
    "# Set color palette\n",
    "colors = sns.color_palette(\"hls\", len(df_scores))\n",
    "\n",
    "# Set figure size\n",
    "plt.figure(figsize=(10, 8))\n",
    "\n",
    "# Generate plot using seaborn\n",
    "sns.barplot(x='score', y='amateur_team', data=df_scores, order=df_scores['amateur_team'], palette=colors)\n",
    "plt.title('Top 10 Most Successful Amateur Teams since 1982 (Excluding WHL, OHL, and QMJHL)')\n",
    "plt.ylabel('Amateur Team')\n",
    "plt.xlabel('Points + Games Played')\n",
    "\n",
    "# Show plot\n",
    "plt.show()\n",
    "\n"
   ]
  },
  {
   "cell_type": "markdown",
   "metadata": {},
   "source": [
    "Outside of Canada, CSKA Moskva has a decent gap between them, second place USA U-18, and third place Michiagn State. After the teams start to average out and there is no clear country that dominates as the US, Finland, Sweden and Russia all have multiple teams listed. "
   ]
  },
  {
   "cell_type": "code",
   "execution_count": null,
   "metadata": {},
   "outputs": [],
   "source": [
    "# Filter data to include only goalies with an amateur team\n",
    "df_goalies = dfAma[dfAma['position'] == 'G']\n",
    "df_amateur_goalies = df_goalies[df_goalies['amateur_team'].notnull()]\n",
    "\n",
    "\n",
    "# Calculate total score for each team\n",
    "Gdf = df_amateur_goalies.groupby('amateur_team', as_index=False).sum(numeric_only=True)[['amateur_team', 'goalie_games_played', 'goalie_wins']]\n",
    "Gdf['score'] = Gdf['goalie_games_played'] + Gdf['goalie_wins']\n",
    "Gdf = Gdf.sort_values('score', ascending=False)[:10]\n",
    "\n",
    "# Set color palette\n",
    "colors = sns.color_palette(\"hls\", len(Gdf))\n",
    "\n",
    "# Set figure size\n",
    "fig = plt.figure(figsize=(10, 8))\n",
    "\n",
    "# Generate plot using matplotlib\n",
    "ax = fig.add_subplot(111)\n",
    "ax.pie(Gdf['score'], labels=Gdf['amateur_team'], colors=colors, autopct='%1.1f%%')\n",
    "\n",
    "# Set title and axis labels\n",
    "plt.title('Top 10 Most Successful Amateur Teams since 1982 (Goalies Only)')\n",
    "\n",
    "\n",
    "# Show plot\n",
    "plt.show()\n",
    "\n",
    "\n"
   ]
  },
  {
   "cell_type": "markdown",
   "metadata": {},
   "source": [
    "This graph shows the top goalie producing teams since 1982. Tri City(red) in the best team among all with Red Deer behind them. The postion has also been a strength for Canada over the years. All of the top 10 teams are from Canada."
   ]
  },
  {
   "cell_type": "code",
   "execution_count": null,
   "metadata": {},
   "outputs": [],
   "source": [
    "# Filter data to include only goalies with an amateur team\n",
    "df_goalies = dfAma[dfAma['position'] == 'G']\n",
    "df_amateur_goalies = df_goalies[df_goalies['amateur_team'].notnull()]\n",
    "df_amateur_goalies = df_amateur_goalies[~df_amateur_goalies['amateur_team'].str.contains('WHL|OHL|QMJHL')]\n",
    "\n",
    "# Calculate total score for each team\n",
    "Gdf = df_amateur_goalies.groupby('amateur_team', as_index=False).sum(numeric_only=True)[['amateur_team', 'goalie_games_played', 'goalie_wins']]\n",
    "Gdf['score'] = Gdf['goalie_games_played'] + Gdf['goalie_wins']\n",
    "Gdf = Gdf.sort_values('score', ascending=False)[:10]\n",
    "\n",
    "# Set color palette\n",
    "colors = sns.color_palette(\"hls\", len(Gdf))\n",
    "\n",
    "# Set figure size\n",
    "fig = plt.figure(figsize=(10, 8))\n",
    "\n",
    "# Generate plot using matplotlib\n",
    "ax = fig.add_subplot(111)\n",
    "ax.pie(Gdf['score'], labels=Gdf['amateur_team'], colors=colors, autopct='%1.1f%%')\n",
    "\n",
    "# Set title and axis labels\n",
    "plt.title('Top 10 Most Successful Amateur Teams since 1982 (Goalies Only)')\n",
    "\n",
    "\n",
    "# Show plot\n",
    "plt.show()"
   ]
  },
  {
   "cell_type": "code",
   "execution_count": null,
   "metadata": {},
   "outputs": [],
   "source": [
    "df2010 = dfAma.loc[:2791]\n",
    "# Filter data to include only players with an amateur team\n",
    "df_amateur2 = df2010[df2010['amateur_team'].notnull()]\n",
    "\n",
    "# Calculate total score for each team\n",
    "df_scores2 = df_amateur2.groupby('amateur_team', as_index=False).sum(numeric_only=True)[['amateur_team', 'games_played', 'points']]\n",
    "df_scores2['score'] = df_scores2['games_played'] + df_scores2['points']\n",
    "df_scores2 = df_scores2.sort_values('score', ascending=False)[:10]\n",
    "\n",
    "# Set figure size\n",
    "plt.figure(figsize=(10, 8))\n",
    "\n",
    "# Generate plot using seaborn\n",
    "sns.scatterplot(x='points', y='games_played', size='score', hue='amateur_team', data=df_scores2, sizes=(50, 500), alpha=0.7)\n",
    "plt.title('Most Successful Amateur Teams since 2010')\n",
    "plt.ylabel('Games Played')\n",
    "plt.xlabel('Points')\n",
    "plt.legend(bbox_to_anchor=(1.05, 1), loc=2, borderaxespad=0.)\n",
    "plt.show()\n"
   ]
  },
  {
   "cell_type": "markdown",
   "metadata": {},
   "source": [
    "This graph shows the recent greatest of the USA Development team since 2010. When using data from 1982 the program was 16th, but since 2010 they have leapfrogged everyone by a huge margin. This is likely due to the increased interest in hockey in the US, as well as the fact for the US does not have the same system as Canada for young players. In Canada young players are drafted to a team in the WHL, OHL, or QMJHL depending on where they live. However, in the US the best young players can choose to play for the US Development team meaning the best young players almost always come from their team."
   ]
  }
 ],
 "metadata": {
  "kernelspec": {
   "display_name": "Python 3 (ipykernel)",
   "language": "python",
   "name": "python3"
  },
  "language_info": {
   "codemirror_mode": {
    "name": "ipython",
    "version": 3
   },
   "file_extension": ".py",
   "mimetype": "text/x-python",
   "name": "python",
   "nbconvert_exporter": "python",
   "pygments_lexer": "ipython3",
   "version": "3.10.9"
  }
 },
 "nbformat": 4,
 "nbformat_minor": 4
}
